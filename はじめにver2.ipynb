{
 "cells": [
  {
   "attachments": {},
   "cell_type": "markdown",
   "metadata": {},
   "source": [
    "# 1Webアプリとは"
   ]
  },
  {
   "attachments": {},
   "cell_type": "markdown",
   "metadata": {},
   "source": [
    "## 全体像\n"
   ]
  },
  {
   "attachments": {},
   "cell_type": "markdown",
   "metadata": {},
   "source": [
    "- はじめに\n",
    "    - 学習目的\n",
    "    - フレームワークとは\n",
    "    - webとは？\n",
    "    - PythonでのWebアプリ\n",
    "    - 代表的なアプリケーション\n",
    "    - 今回メインで扱うフレームワーク：Streamlit"
   ]
  },
  {
   "attachments": {},
   "cell_type": "markdown",
   "metadata": {},
   "source": [
    "## はじめに（この講座について）"
   ]
  },
  {
   "attachments": {},
   "cell_type": "markdown",
   "metadata": {},
   "source": [
    "### 学習目的"
   ]
  },
  {
   "attachments": {},
   "cell_type": "markdown",
   "metadata": {},
   "source": [
    "本講座ではすぐに使えるwebアプリを5つ作る事で、様々な便利で実用的なAPIやライブラリなどの活用方法を学ぶことができます。\n",
    "具体的には、pythonというプログラミング言語とstreamlitという簡単にwebアプリを作れるフレームワークを使って、 webアプリを５つ作ります。"
   ]
  },
  {
   "attachments": {},
   "cell_type": "markdown",
   "metadata": {},
   "source": [
    "PCやスマホのWebブラウザなど使用し、インターネットを通じてwebサーバーにアクセスすることによって使えるアプリケーションのことです。\n",
    "\n",
    "「アプリケーション」とは、パソコンやスマートフォン上で動作するソフトウェアのことを指します。\n",
    "\n",
    "アプリケーションは大きくわけて、「Webアプリ」「ネイティブアプリ」「ハイブリッドアプリ」などがあります。\n",
    "\n",
    "例えば、ネットショッピングサイトやSNS、動画配信サイトなどがWebアプリの一例です。\n",
    "\n",
    "ネットショッピングサイトを具体例にします。\n",
    "ブラウザやアプリで商品を表示し、バックエンドのWebサーバーに商品の検索や注文などの処理をさせることで、ユーザーにサービスを提供しています。\n",
    "\n",
    "これはSNSでも同じで、ブラウザやアプリで投稿やコメントを表示し、バックエンドのWebサーバーに投稿や投稿の削除などのデータベースの管理をさせることによって、ユーザーにサービスを提供しています。\n",
    "\n",
    "このように、Webページ、Webサーバー、データベースなどの技術を組み合わせて作り、ユーザーがインターネットを通じて使える便利なサービスをwebアプリといいます。\n",
    "\n",
    "ネイティブアプリは、特定のOSを備えた機器で動作するアプリケーションのことで、「App Store」「Google Play」などのストアからインストールして利用できます。\n",
    "\n",
    "ハイブリッドアプリは、Webアプリの技術を利用しながら、ネイティブアプリのカメラやGPS機能を備えたいいとこどりとも言えるアプリケーションです。"
   ]
  },
  {
   "attachments": {},
   "cell_type": "markdown",
   "metadata": {},
   "source": [
    "<img src=\"img/img010.jpg\">"
   ]
  },
  {
   "cell_type": "markdown",
   "metadata": {},
   "source": []
  },
  {
   "attachments": {},
   "cell_type": "markdown",
   "metadata": {},
   "source": [
    "### フレームワークとは"
   ]
  },
  {
   "attachments": {},
   "cell_type": "markdown",
   "metadata": {},
   "source": [
    "フレームワークとは、システム開発などを効率的に行うことができるように、よく使われる機能を簡単に使えるようにあらかじめ用意しておいた「枠組み」のことです。\n",
    "フレームワークが用意してくれている機能は、数行のコードを使って呼び出すことができ、簡単にwebアプリなどを作ることができます。開発の時間や労力が節約することができ、効率的に開発することができます。\n",
    "\n",
    "※フレームワークとライブラリの違い\n",
    "\n",
    "フレームワークとライブラリはアプリケーションを開発するのに必要なコードの量を減らすことで効率化できることは共通していますが、両者は厳密に言えば意味がまったく異なります。「フレームワーク」はプログラマーがアプリケーションを開発するのに必要な土台であり枠組みです。一方で、」ライブラリ」はプログラマーの作業を簡略化し、開発のプロセスを効率化するために予め定義された関数やクラスの集合体のことを指します。"
   ]
  },
  {
   "attachments": {},
   "cell_type": "markdown",
   "metadata": {},
   "source": [
    "<img src=\"img/img011.png\">"
   ]
  },
  {
   "attachments": {},
   "cell_type": "markdown",
   "metadata": {},
   "source": [
    "参照：https://ssaits.jp/promapedia/wp-content/uploads/2020/10/library-framework-1024x576.png"
   ]
  },
  {
   "attachments": {},
   "cell_type": "markdown",
   "metadata": {},
   "source": [
    "### Webアプリとは"
   ]
  },
  {
   "attachments": {},
   "cell_type": "markdown",
   "metadata": {},
   "source": [
    "### pythonでのwebアプリ"
   ]
  },
  {
   "attachments": {},
   "cell_type": "markdown",
   "metadata": {},
   "source": [
    "webサーバーのバックエンドの処理で扱える言語は色々あります。\n",
    "\n",
    "その中で代表的な言語を5つ挙げてみます。\n",
    "- Java: ビッグデータ処理やエンタープライズシステムなど、大規模で複雑なシステムの構築に適しています。\n",
    "- Python: 機械学習やデータ解析、Web開発など、幅広い分野で使われています。\n",
    "- PHP: Webアプリケーション開発で広く使われており、WordPressといったコンテンツ管理システム(CMS)の開発にも利用されています。\n",
    "- Ruby: Webアプリケーションの開発に適しています。また、クラウドベースのアプリケーションの開発にも利用されます。\n",
    "- JavaScript: Node.jsというランタイム環境を使ってサーバーサイドでも利用されています。\n",
    "\n",
    "この講座ではpythonというプログラミング言語をメインにすすめていきます。\n",
    "\n",
    "Pythonを選ぶ理由は３つあります。 \n",
    "- Pythonの文法はシンプルで読みやすいため、初心者にも扱いやすい。\n",
    "- Pythonには様々なライブラリやフレームワークがあり、webアプリが作れるだけでなく、データサイエンスや機械学習などの分野で広く使われているため、汎用性が高いです。  \n",
    "- Pythonは大規模プロジェクトでも利用されており、多くの企業や組織がPythonを採用しています。"
   ]
  },
  {
   "attachments": {},
   "cell_type": "markdown",
   "metadata": {},
   "source": [
    "### Pythonを使った代表的な(Web)アプリケーション例"
   ]
  },
  {
   "attachments": {},
   "cell_type": "markdown",
   "metadata": {},
   "source": [
    "多くのテック企業が、Pythonを使ったWebアプリケーションを採用しています。\n",
    "\n",
    "そのいくつかの例をご紹介します。\n",
    "\n",
    "- Instagram: PythonのWebフレームワークであるDjangoを利用して作られています。\n",
    "- Dropbox: オンラインストレージサービスです。PythonのフレームワークであるFlaskを使用しています。\n",
    "- Pinterest: PythonのWebフレームワークであるDjangoを利用して作られた、画像共有アプリケーションです。\n",
    "- Bitbucket: ソースコード管理ツールで、PythonのフレームワークであるDjangoを使用しています。\n",
    "- YouTube: PythonのWebフレームワークであるTurboGearsを使用しています。\n",
    "\n",
    "pythonは本番環境で使用されるFlaskやDjangoなど非常に便利なwebフレームワークがあるため、今回の講義ではpythonをメインで扱います。"
   ]
  },
  {
   "attachments": {},
   "cell_type": "markdown",
   "metadata": {},
   "source": [
    "### webフレームワークとは"
   ]
  },
  {
   "attachments": {},
   "cell_type": "markdown",
   "metadata": {},
   "source": [
    "webアプリ開発に活用されるフレームワークをwebフレームワークといいます。\n",
    "\n",
    "FlaskやDjangoなどwebフレームワークは多数存在しており、活用しているユーザーが多いwebフレームワークは、活用してる一部のユーザーによってさらに開発され、より便利なwebフレームワークになります。このwebフレームワークの流行りすたりはGithubなどでどのくらい使われているかで確認できます。"
   ]
  },
  {
   "attachments": {},
   "cell_type": "markdown",
   "metadata": {},
   "source": [
    "<img src=\"img/img012.png\">"
   ]
  },
  {
   "attachments": {},
   "cell_type": "markdown",
   "metadata": {},
   "source": [
    "Reference: https://bit.ly/43L2DuH"
   ]
  },
  {
   "attachments": {},
   "cell_type": "markdown",
   "metadata": {},
   "source": [
    "多数あるwebフレームワークはおおまかに２種類に分類できます。\n",
    "\n",
    "- フルスタックWebフレームワーク：webアプリに必要な機能を多数備えた大規模開発向けのフレームワークです。開発に時間がかかりますが、完成度の高いwebアプリを作ることが可能です。（例：Django）\n",
    "- マイクロWebフレームワーク：欲しい機能が最小限備わった小規模開発向けで、テスト環境や作りたい機能を素早く作りたい時に使われるフレームワークです。（例：Flask）  \n",
    "\n",
    "例として、DjangoはフルスタックWebフレームワーク、FlaskとstreamlitはマイクロWebフレームワークの代表的なフレームワークです。モックやMVPを構築する際は、マイクロフレームを利用することで短期間でモックを作成することができます。"
   ]
  },
  {
   "attachments": {},
   "cell_type": "markdown",
   "metadata": {},
   "source": [
    "### 今回メインで扱う簡易的なwebフレームワーク"
   ]
  },
  {
   "attachments": {},
   "cell_type": "markdown",
   "metadata": {},
   "source": [
    "先ほどの代表的なアプリケーションにあったflaskやDjangoですが、フロントエンド側とバックエンド側の両方の開発が必要であり、キャッチアップまで多くの時間を要します。\n",
    "\n",
    "そこでデモなどで見せることに特化した、簡易的なWebフレームワークである「streamlit」をこの講座では使っていきます。\n",
    "\n",
    "Streamlitを使う理由はWebアプリの作成に必要なコードを最小限に抑えることができます。そのため、初心者でも簡単にWebアプリを作成することができます。さらに、リアルタイムでのデータの可視化が簡単にできるため、データサイエンスや機械学習の分野のwebアプリにも活用できるため、多くの企業もデモ作成に利用しています。"
   ]
  },
  {
   "attachments": {},
   "cell_type": "markdown",
   "metadata": {},
   "source": [
    "## 課題"
   ]
  },
  {
   "attachments": {},
   "cell_type": "markdown",
   "metadata": {},
   "source": [
    "- フレームワークとはなにか説明してみてください。\n",
    "- webアプリとは？ネイティブアプリとの違いは？\n",
    "- pythonが使われているサービスを３つ調べてみましょう\n",
    "- Pythonの人気なWebフレームワークを３つ調べてみましょう！その特徴も調べてみましょう！\n",
    "- なぜPythonがよく使わているのか？Ruby、Javaなどと比較してその理由を調べてください。"
   ]
  }
 ],
 "metadata": {
  "kernelspec": {
   "display_name": "Python 3",
   "language": "python",
   "name": "python3"
  },
  "language_info": {
   "codemirror_mode": {
    "name": "ipython",
    "version": 3
   },
   "file_extension": ".py",
   "mimetype": "text/x-python",
   "name": "python",
   "nbconvert_exporter": "python",
   "pygments_lexer": "ipython3",
   "version": "3.11.3"
  },
  "orig_nbformat": 4,
  "vscode": {
   "interpreter": {
    "hash": "aee8b7b246df8f9039afb4144a1f6fd8d2ca17a180786b69acc140d282b71a49"
   }
  }
 },
 "nbformat": 4,
 "nbformat_minor": 2
}
